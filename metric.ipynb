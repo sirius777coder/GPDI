{
 "cells": [
  {
   "cell_type": "markdown",
   "metadata": {},
   "source": [
    "This fine contains the following script to analyse the backbone structures\n",
    "- pLDDT / sequence\n",
    "- RMSD / motif RMSD / TM-score\n",
    "- SASA"
   ]
  },
  {
   "cell_type": "code",
   "execution_count": 3,
   "metadata": {},
   "outputs": [],
   "source": [
    "# import biotite and other tools\n",
    "import biotite\n",
    "import biotite.structure.io as strucio\n",
    "import biotite.structure as struc\n",
    "from biotite.structure.residues import get_residues\n",
    "from biotite.structure import get_chains\n",
    "from biotite.sequence import ProteinSequence\n",
    "import numpy as np"
   ]
  },
  {
   "cell_type": "markdown",
   "metadata": {},
   "source": [
    "### Part0 : extract backbone coordinates from biotite\n",
    "\n",
    "Note the basic python object is atom rather than residue or chain!"
   ]
  },
  {
   "cell_type": "code",
   "execution_count": 9,
   "metadata": {},
   "outputs": [],
   "source": [
    "# Biotite module forthe pdb/cif structures\n",
    "def load_structure(fpath,chain=None):\n",
    "    \"\"\"\n",
    "    loading atom from the fpath, from the given chain\n",
    "    \"\"\"\n",
    "    structure = strucio.load_structure(fpath,model=1)\n",
    "    aa_mask = struc.filter_amino_acids(structure)\n",
    "    structure = structure[aa_mask]\n",
    "    all_chains = get_chains(structure)\n",
    "    if len(all_chains) == 0:\n",
    "        raise ValueError('No chains found in the input file.')\n",
    "    if chain is None:\n",
    "        chain_ids = all_chains\n",
    "    elif isinstance(chain, list):\n",
    "        chain_ids = chain\n",
    "    else:\n",
    "        chain_ids = [chain] \n",
    "    for chain in chain_ids:\n",
    "        if chain not in all_chains:\n",
    "            raise ValueError(f'Chain {chain} not found in input file')\n",
    "    chain_filter = [a.chain_id in chain_ids for a in structure]\n",
    "    structure = structure[chain_filter]\n",
    "    # filter the canonical amino acid\n",
    "    aa_mask = struc.filter_amino_acids(structure)\n",
    "    structure = structure[aa_mask]\n",
    "    return structure"
   ]
  },
  {
   "cell_type": "code",
   "execution_count": 12,
   "metadata": {},
   "outputs": [
    {
     "name": "stdout",
     "output_type": "stream",
     "text": [
      "type of backbone is <class 'biotite.structure.AtomArray'> , shape is (1416,)\n",
      "type of backbone is <class 'numpy.ndarray'> , shape is (1416, 3)\n"
     ]
    }
   ],
   "source": [
    "backbone = load_structure('./gpdl_inpainting/benchmark_set/2KL8.pdb')\n",
    "print(f\"type of backbone is {type(backbone)} , shape is {backbone.shape}\")\n",
    "print(f\"type of backbone is {type(backbone.coord)} , shape is {backbone.coord.shape}\")"
   ]
  },
  {
   "cell_type": "markdown",
   "metadata": {},
   "source": [
    "### Part1 : extract pLDDT and sequence from the predicted structure"
   ]
  },
  {
   "cell_type": "code",
   "execution_count": 2,
   "metadata": {},
   "outputs": [],
   "source": [
    "def extract_plddt(protein,chain_id=None):\n",
    "    if isinstance(protein,str):\n",
    "        # model = 1 to load a AtomArray object\n",
    "        # extra_fields to load the b_factor column\n",
    "        atom_array = strucio.load_structure(protein,model=1,extra_fields=[\"b_factor\"])\n",
    "    elif isinstance(protein, struc.AtomArrayStack):\n",
    "        atom_array = protein[0]\n",
    "    elif isinstance(protein, struc.AtomArray):\n",
    "        atom_array = protein\n",
    "\n",
    "    # add multiple chain sequence subtract function\n",
    "    all_chains = get_chains(atom_array)\n",
    "    if len(all_chains) == 0:\n",
    "        raise ValueError('No chains found in the input file.')\n",
    "    if chain_id is None:\n",
    "        chain_ids = all_chains\n",
    "    elif isinstance(chain_id, list):\n",
    "        chain_ids = chain_id\n",
    "    else:\n",
    "        chain_ids = [chain_id] \n",
    "    for chain in chain_ids:\n",
    "        if chain not in all_chains:\n",
    "            raise ValueError(f'Chain {chain} not found in input file')\n",
    "    chain_filter = [a.chain_id in chain_ids for a in atom_array]\n",
    "    atom_array = atom_array[chain_filter]\n",
    "\n",
    "    # mask canonical aa \n",
    "    aa_mask = struc.filter_canonical_amino_acids(atom_array)\n",
    "    atom_array = atom_array[aa_mask]\n",
    "\n",
    "    # ca atom only\n",
    "    atom_array = atom_array[atom_array.atom_name == \"CA\"]\n",
    "\n",
    "    plddt = np.array([i.b_factor for i in atom_array])\n",
    "\n",
    "    return plddt, np.mean(plddt)"
   ]
  },
  {
   "cell_type": "code",
   "execution_count": 5,
   "metadata": {},
   "outputs": [],
   "source": [
    "def extract_seq(protein, chain_id=None):\n",
    "    if isinstance(protein, str):\n",
    "        atom_array = strucio.load_structure(protein, model=1)\n",
    "    elif isinstance(protein, struc.AtomArrayStack):\n",
    "        atom_array = protein[0]\n",
    "    elif isinstance(protein, struc.AtomArray):\n",
    "        atom_array = protein\n",
    "    aa_mask = struc.filter_canonical_amino_acids(atom_array)\n",
    "    atom_array = atom_array[aa_mask]\n",
    "    all_chains = get_chains(atom_array)\n",
    "    if len(all_chains) == 0:\n",
    "        raise ValueError('No chains found in the input file.')\n",
    "    if chain_id is None:\n",
    "        chain_ids = all_chains\n",
    "    elif isinstance(chain, list):\n",
    "        chain_ids = chain\n",
    "    else:\n",
    "        chain_ids = [chain]\n",
    "    for chain in chain_ids:\n",
    "        if chain not in all_chains:\n",
    "            raise ValueError(f'Chain {chain} not found in input file')\n",
    "    chain_filter = [a.chain_id in chain_ids for a in atom_array]\n",
    "    atom_array = atom_array[chain_filter]\n",
    "    # mask canonical aa\n",
    "    aa_mask = struc.filter_amino_acids(atom_array)\n",
    "    atom_array = atom_array[aa_mask]\n",
    "    residue_identities = get_residues(atom_array)[1]\n",
    "    seq = ''.join([ProteinSequence.convert_letter_3to1(r)\n",
    "                  for r in residue_identities])\n",
    "    return seq\n"
   ]
  },
  {
   "cell_type": "code",
   "execution_count": 8,
   "metadata": {},
   "outputs": [
    {
     "name": "stdout",
     "output_type": "stream",
     "text": [
      "Length of 1BCF sequence is 1896\n"
     ]
    }
   ],
   "source": [
    "seq = extract_seq(\"./gpdl_inpainting/benchmark_set/1BCF.pdb\")\n",
    "print(f\"Length of 1BCF sequence is {len(seq)}\")"
   ]
  },
  {
   "cell_type": "markdown",
   "metadata": {},
   "source": [
    "### Part2 : RMSD/motif RMSD/TM-score\n",
    "\n",
    "In the following command we provide two methods for RMSD, the first is to use Kabsch algorithm in biotite and the other is to use the third paryty software `TMalign`.\n",
    "\n",
    "One can compute the motif RMSD by extract the motif positions"
   ]
  },
  {
   "cell_type": "code",
   "execution_count": 13,
   "metadata": {},
   "outputs": [],
   "source": [
    "def rmsd(reference:str,target:str):\n",
    "    \"\"\"\n",
    "    Input : \n",
    "    - reference : path of the reference protein structure file\n",
    "    - target : path of the target file\n",
    "    This function calculate the backbone RMSD for two pdbs\n",
    "    \"\"\"\n",
    "    reference = strucio.load_structure(reference,model=1)\n",
    "    target = strucio.load_structure(target,model=1)\n",
    "    mask_reference = (((reference.atom_name == \"N\") | (reference.atom_name == \"CA\") | (reference.atom_name == \"C\") | (reference.atom_name == \"O\")) & (biotite.structure.filter_amino_acids(reference)))\n",
    "    reference = reference[mask_reference]\n",
    "    mask_target = (((target.atom_name == \"N\") | (target.atom_name == \"CA\") | (target.atom_name == \"C\") | (target.atom_name == \"O\")) & (biotite.structure.filter_amino_acids(target)) )\n",
    "    target = target[mask_target]\n",
    "    superimposed, _ = struc.superimpose(reference, target)\n",
    "    rms = struc.rmsd(reference, superimposed)\n",
    "    return rms"
   ]
  },
  {
   "cell_type": "code",
   "execution_count": 14,
   "metadata": {},
   "outputs": [],
   "source": [
    "def motif_extract(position,array,atom_part=\"all\"):\n",
    "    \"\"\"\n",
    "    subtract chain_id,res_id & atom option\n",
    "    ignore the hetero elements\n",
    "\n",
    "    DEMO:\n",
    "    position = \"A119-140,A63-82\"\n",
    "    motif_AtomArray = motif_extract(position,array,atom_part=\"backbone\")\n",
    "    \"\"\"\n",
    "    position = position.split(\",\")\n",
    "    motif_array = []\n",
    "    for i in position:\n",
    "        chain_id = i[0]\n",
    "        i = i.replace(chain_id,\"\")\n",
    "        if \"-\" not in i: # single motif positions\n",
    "            start = end = int(i)\n",
    "        else:\n",
    "            start,end = i.split(\"-\")\n",
    "            start,end = int(start),int(end)\n",
    "        if atom_part == \"all\":\n",
    "            motif_array.append(array[(array.chain_id==chain_id) & (array.res_id <= end) & (array.res_id >= start) & (array.hetero==False)])\n",
    "        elif atom_part == \"ca\":\n",
    "            motif_array.append(array[(array.chain_id==chain_id) & (array.res_id <= end) & (array.res_id >= start) & (array.hetero==False) & (array.atom_name==\"CA\")])\n",
    "        elif atom_part == \"backbone\":\n",
    "            motif_array.append(array[(array.chain_id==chain_id) & (array.res_id <= end) & (array.res_id >= start) & (array.hetero==False) & ((array.atom_name==\"N\") | (array.atom_name==\"CA\")| (array.atom_name==\"C\") | (array.atom_name==\"O\"))])\n",
    "    motif_AtomArray = motif_array[0]\n",
    "    for i in range(len(motif_array)-1):\n",
    "        motif_AtomArray += motif_array[i+1]\n",
    "    return motif_AtomArray"
   ]
  },
  {
   "cell_type": "code",
   "execution_count": 15,
   "metadata": {},
   "outputs": [],
   "source": [
    "def tmalign_wrapper(template, temp_pdbfile, TM_binary_path,force_alignment=None):\n",
    "    if force_alignment == None:\n",
    "        p = subprocess.Popen(f'{TM_binary_path} {template} {temp_pdbfile} | grep -E \"RMSD|TM-score=\" ', stdout=subprocess.PIPE, shell=True)\n",
    "    else:\n",
    "        p = subprocess.Popen(f'{TM_binary_path} {template} {temp_pdbfile} -I {force_alignment} | grep -E \"RMSD|TM-score=\" ', stdout=subprocess.PIPE, shell=True)\n",
    "    output, __ = p.communicate()\n",
    "    tm_rmsd  = float(str(output)[:-3].split(\"RMSD=\")[-1].split(\",\")[0] )\n",
    "    tm_score = float(str(output)[:-3].split(\"TM-score=\")[-1].split(\"(if\")[0] )\n",
    "    return tm_rmsd, tm_score\n",
    "\n",
    "def mmalign_wrapper(template, temp_pdbfile, MM_binary_path, force_alignment=None):\n",
    "    if force_alignment == None:\n",
    "        p = subprocess.Popen(f'{MM_binary_path} {template} {temp_pdbfile} | grep -E \"RMSD|TM-score=\" ', stdout=subprocess.PIPE, shell=True)\n",
    "    else:\n",
    "        p = subprocess.Popen(f'{MM_binary_path} {template} {temp_pdbfile} -I {force_alignment} | grep -E \"RMSD|TM-score=\" ', stdout=subprocess.PIPE, shell=True)\n",
    "    output, __ = p.communicate()\n",
    "    tm_rmsd  = float(str(output)[:-3].split(\"RMSD=\")[-1].split(\",\")[0] )\n",
    "    tm_score = float(str(output)[:-3].split(\"TM-score=\")[-1].split(\"(normalized\")[0] )\n",
    "    return tm_rmsd, tm_score"
   ]
  },
  {
   "cell_type": "markdown",
   "metadata": {},
   "source": [
    "### Part3 : RMSF\n",
    "It represents the root mean square fluctuation for each atom in $T$ frames. This is useful when I have multiple conforamtions to see the flexibility of each atom such as NMR structure or molecular dynamics simmulation.\n",
    "\n",
    "For the $i$ atom (CA atom), we can compute the average position and the flucutation \n",
    "\n",
    "$\\bar{x}_i=\\frac{1}{T}\\sum\\limits_{t=1}^T x_i$\n",
    "\n",
    "$RMSF_{i}=\\frac{1}{T}\\sum\\limits_{t=1}^T||x_{i,t} - \\bar{x}_i||_2$ \n",
    "\n"
   ]
  },
  {
   "cell_type": "code",
   "execution_count": null,
   "metadata": {},
   "outputs": [],
   "source": []
  }
 ],
 "metadata": {
  "kernelspec": {
   "display_name": "esmfold",
   "language": "python",
   "name": "python3"
  },
  "language_info": {
   "codemirror_mode": {
    "name": "ipython",
    "version": 3
   },
   "file_extension": ".py",
   "mimetype": "text/x-python",
   "name": "python",
   "nbconvert_exporter": "python",
   "pygments_lexer": "ipython3",
   "version": "3.7.12"
  }
 },
 "nbformat": 4,
 "nbformat_minor": 2
}
